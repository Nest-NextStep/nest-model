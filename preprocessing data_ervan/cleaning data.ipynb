{
 "cells": [
  {
   "cell_type": "markdown",
   "metadata": {},
   "source": [
    "---\n",
    "# STEP 1 \n",
    "---"
   ]
  },
  {
   "cell_type": "markdown",
   "metadata": {},
   "source": [
    "# PRE PROCESSING"
   ]
  },
  {
   "cell_type": "code",
   "execution_count": 15,
   "metadata": {},
   "outputs": [],
   "source": [
    "import numpy as np\n",
    "import pandas as pd\n",
    "import matplotlib.pyplot as plt\n",
    "import seaborn as sns\n",
    "from sklearn.preprocessing import LabelEncoder"
   ]
  },
  {
   "cell_type": "code",
   "execution_count": 2,
   "metadata": {},
   "outputs": [
    {
     "name": "stderr",
     "output_type": "stream",
     "text": [
      "C:\\Users\\Ngurah Ervan\\AppData\\Local\\Temp\\ipykernel_21024\\2986868959.py:1: DtypeWarning: Columns (93) have mixed types. Specify dtype option on import or set low_memory=False.\n",
      "  train_set = pd.read_csv('data//data.csv', delimiter='\\t')\n"
     ]
    },
    {
     "name": "stdout",
     "output_type": "stream",
     "text": [
      "   R1  R2  R3  R4  R5  R6  R7  R8  I1  I2  ...  orientation  race  voted  \\\n",
      "0   3   4   3   1   1   4   1   3   5   5  ...            1     1      2   \n",
      "1   1   1   2   4   1   2   2   1   5   5  ...            3     4      1   \n",
      "2   2   1   1   1   1   1   1   1   4   1  ...            1     4      2   \n",
      "3   3   1   1   2   2   2   2   2   4   1  ...            1     1      2   \n",
      "4   4   1   1   2   1   1   1   2   5   5  ...            3     1      2   \n",
      "\n",
      "   married  familysize  uniqueNetworkLocation  country  source      major  \\\n",
      "0        1           1                      1       US       2        NaN   \n",
      "1        2           3                      1       US       1    Nursing   \n",
      "2        1           1                      1       US       1        NaN   \n",
      "3        1           1                      1       CN       0        NaN   \n",
      "4        1           4                      1       PH       0  education   \n",
      "\n",
      "   Unnamed: 93  \n",
      "0          NaN  \n",
      "1          NaN  \n",
      "2          NaN  \n",
      "3          NaN  \n",
      "4          NaN  \n",
      "\n",
      "[5 rows x 94 columns]\n"
     ]
    }
   ],
   "source": [
    "train_set = pd.read_csv('data//data.csv', delimiter='\\t')\n",
    "print(train_set.head())"
   ]
  },
  {
   "cell_type": "code",
   "execution_count": 3,
   "metadata": {},
   "outputs": [
    {
     "name": "stdout",
     "output_type": "stream",
     "text": [
      "<class 'pandas.core.frame.DataFrame'>\n",
      "RangeIndex: 145828 entries, 0 to 145827\n",
      "Data columns (total 94 columns):\n",
      " #   Column                 Non-Null Count   Dtype \n",
      "---  ------                 --------------   ----- \n",
      " 0   R1                     145828 non-null  int64 \n",
      " 1   R2                     145828 non-null  int64 \n",
      " 2   R3                     145828 non-null  int64 \n",
      " 3   R4                     145828 non-null  int64 \n",
      " 4   R5                     145828 non-null  int64 \n",
      " 5   R6                     145828 non-null  int64 \n",
      " 6   R7                     145828 non-null  int64 \n",
      " 7   R8                     145828 non-null  int64 \n",
      " 8   I1                     145828 non-null  int64 \n",
      " 9   I2                     145828 non-null  int64 \n",
      " 10  I3                     145828 non-null  int64 \n",
      " 11  I4                     145828 non-null  int64 \n",
      " 12  I5                     145828 non-null  int64 \n",
      " 13  I6                     145828 non-null  int64 \n",
      " 14  I7                     145828 non-null  int64 \n",
      " 15  I8                     145828 non-null  int64 \n",
      " 16  A1                     145828 non-null  int64 \n",
      " 17  A2                     145828 non-null  int64 \n",
      " 18  A3                     145828 non-null  int64 \n",
      " 19  A4                     145828 non-null  int64 \n",
      " 20  A5                     145828 non-null  int64 \n",
      " 21  A6                     145828 non-null  int64 \n",
      " 22  A7                     145828 non-null  int64 \n",
      " 23  A8                     145828 non-null  int64 \n",
      " 24  S1                     145828 non-null  int64 \n",
      " 25  S2                     145828 non-null  int64 \n",
      " 26  S3                     145828 non-null  int64 \n",
      " 27  S4                     145828 non-null  int64 \n",
      " 28  S5                     145828 non-null  int64 \n",
      " 29  S6                     145828 non-null  int64 \n",
      " 30  S7                     145828 non-null  int64 \n",
      " 31  S8                     145828 non-null  int64 \n",
      " 32  E1                     145828 non-null  int64 \n",
      " 33  E2                     145828 non-null  int64 \n",
      " 34  E3                     145828 non-null  int64 \n",
      " 35  E4                     145828 non-null  int64 \n",
      " 36  E5                     145828 non-null  int64 \n",
      " 37  E6                     145828 non-null  int64 \n",
      " 38  E7                     145828 non-null  int64 \n",
      " 39  E8                     145828 non-null  int64 \n",
      " 40  C1                     145828 non-null  int64 \n",
      " 41  C2                     145828 non-null  int64 \n",
      " 42  C3                     145828 non-null  int64 \n",
      " 43  C4                     145828 non-null  int64 \n",
      " 44  C5                     145828 non-null  int64 \n",
      " 45  C6                     145828 non-null  int64 \n",
      " 46  C7                     145828 non-null  int64 \n",
      " 47  C8                     145828 non-null  int64 \n",
      " 48  introelapse            145828 non-null  int64 \n",
      " 49  testelapse             145828 non-null  int64 \n",
      " 50  surveyelapse           145828 non-null  int64 \n",
      " 51  TIPI1                  145828 non-null  int64 \n",
      " 52  TIPI2                  145828 non-null  int64 \n",
      " 53  TIPI3                  145828 non-null  int64 \n",
      " 54  TIPI4                  145828 non-null  int64 \n",
      " 55  TIPI5                  145828 non-null  int64 \n",
      " 56  TIPI6                  145828 non-null  int64 \n",
      " 57  TIPI7                  145828 non-null  int64 \n",
      " 58  TIPI8                  145828 non-null  int64 \n",
      " 59  TIPI9                  145828 non-null  int64 \n",
      " 60  TIPI10                 145828 non-null  int64 \n",
      " 61  VCL1                   145828 non-null  int64 \n",
      " 62  VCL2                   145828 non-null  int64 \n",
      " 63  VCL3                   145828 non-null  int64 \n",
      " 64  VCL4                   145828 non-null  int64 \n",
      " 65  VCL5                   145828 non-null  int64 \n",
      " 66  VCL6                   145828 non-null  int64 \n",
      " 67  VCL7                   145828 non-null  int64 \n",
      " 68  VCL8                   145828 non-null  int64 \n",
      " 69  VCL9                   145828 non-null  int64 \n",
      " 70  VCL10                  145828 non-null  int64 \n",
      " 71  VCL11                  145828 non-null  int64 \n",
      " 72  VCL12                  145828 non-null  int64 \n",
      " 73  VCL13                  145828 non-null  int64 \n",
      " 74  VCL14                  145828 non-null  int64 \n",
      " 75  VCL15                  145828 non-null  int64 \n",
      " 76  VCL16                  145828 non-null  int64 \n",
      " 77  education              145828 non-null  int64 \n",
      " 78  urban                  145828 non-null  int64 \n",
      " 79  gender                 145828 non-null  int64 \n",
      " 80  engnat                 145828 non-null  int64 \n",
      " 81  age                    145828 non-null  int64 \n",
      " 82  hand                   145828 non-null  int64 \n",
      " 83  religion               145828 non-null  int64 \n",
      " 84  orientation            145828 non-null  int64 \n",
      " 85  race                   145828 non-null  int64 \n",
      " 86  voted                  145828 non-null  int64 \n",
      " 87  married                145828 non-null  int64 \n",
      " 88  familysize             145828 non-null  int64 \n",
      " 89  uniqueNetworkLocation  145828 non-null  int64 \n",
      " 90  country                145816 non-null  object\n",
      " 91  source                 145828 non-null  int64 \n",
      " 92  major                  92954 non-null   object\n",
      " 93  Unnamed: 93            1 non-null       object\n",
      "dtypes: int64(91), object(3)\n",
      "memory usage: 104.6+ MB\n",
      "None\n"
     ]
    }
   ],
   "source": [
    "print(train_set.info())"
   ]
  },
  {
   "cell_type": "code",
   "execution_count": 5,
   "metadata": {},
   "outputs": [],
   "source": [
    "train_set = train_set.drop(columns=['Unnamed: 93'])"
   ]
  },
  {
   "cell_type": "code",
   "execution_count": 30,
   "metadata": {},
   "outputs": [],
   "source": [
    "train_set = train_set.drop(columns=['country'])"
   ]
  },
  {
   "cell_type": "markdown",
   "metadata": {},
   "source": [
    "# CLEARING DUPLICATE"
   ]
  },
  {
   "cell_type": "code",
   "execution_count": 6,
   "metadata": {},
   "outputs": [
    {
     "data": {
      "text/plain": [
       "R1                           0\n",
       "R2                           0\n",
       "R3                           0\n",
       "R4                           0\n",
       "R5                           0\n",
       "                         ...  \n",
       "familysize                   0\n",
       "uniqueNetworkLocation        0\n",
       "country                     12\n",
       "source                       0\n",
       "major                    52874\n",
       "Length: 93, dtype: int64"
      ]
     },
     "execution_count": 6,
     "metadata": {},
     "output_type": "execute_result"
    }
   ],
   "source": [
    "train_set.isna().sum()"
   ]
  },
  {
   "cell_type": "code",
   "execution_count": 7,
   "metadata": {},
   "outputs": [],
   "source": [
    "train_set = train_set.dropna(subset=['major'])"
   ]
  },
  {
   "cell_type": "code",
   "execution_count": 31,
   "metadata": {},
   "outputs": [
    {
     "data": {
      "text/plain": [
       "R1                       0\n",
       "R2                       0\n",
       "R3                       0\n",
       "R4                       0\n",
       "R5                       0\n",
       "                        ..\n",
       "married                  0\n",
       "familysize               0\n",
       "uniqueNetworkLocation    0\n",
       "source                   0\n",
       "major                    0\n",
       "Length: 92, dtype: int64"
      ]
     },
     "execution_count": 31,
     "metadata": {},
     "output_type": "execute_result"
    }
   ],
   "source": [
    "train_set.isna().sum()"
   ]
  },
  {
   "cell_type": "code",
   "execution_count": 9,
   "metadata": {},
   "outputs": [
    {
     "name": "stdout",
     "output_type": "stream",
     "text": [
      "Jumlah duplikasi:  0\n"
     ]
    }
   ],
   "source": [
    "print(\"Jumlah duplikasi: \",train_set.duplicated().sum())"
   ]
  },
  {
   "cell_type": "code",
   "execution_count": 10,
   "metadata": {},
   "outputs": [
    {
     "name": "stdout",
     "output_type": "stream",
     "text": [
      "Index(['R1', 'R2', 'R3', 'R4', 'R5', 'R6', 'R7', 'R8', 'I1', 'I2', 'I3', 'I4',\n",
      "       'I5', 'I6', 'I7', 'I8', 'A1', 'A2', 'A3', 'A4', 'A5', 'A6', 'A7', 'A8',\n",
      "       'S1', 'S2', 'S3', 'S4', 'S5', 'S6', 'S7', 'S8', 'E1', 'E2', 'E3', 'E4',\n",
      "       'E5', 'E6', 'E7', 'E8', 'C1', 'C2', 'C3', 'C4', 'C5', 'C6', 'C7', 'C8',\n",
      "       'introelapse', 'testelapse', 'surveyelapse', 'TIPI1', 'TIPI2', 'TIPI3',\n",
      "       'TIPI4', 'TIPI5', 'TIPI6', 'TIPI7', 'TIPI8', 'TIPI9', 'TIPI10', 'VCL1',\n",
      "       'VCL2', 'VCL3', 'VCL4', 'VCL5', 'VCL6', 'VCL7', 'VCL8', 'VCL9', 'VCL10',\n",
      "       'VCL11', 'VCL12', 'VCL13', 'VCL14', 'VCL15', 'VCL16', 'education',\n",
      "       'urban', 'gender', 'engnat', 'age', 'hand', 'religion', 'orientation',\n",
      "       'race', 'voted', 'married', 'familysize', 'uniqueNetworkLocation',\n",
      "       'country', 'source', 'major'],\n",
      "      dtype='object')\n"
     ]
    }
   ],
   "source": [
    "print(train_set.columns)"
   ]
  },
  {
   "cell_type": "code",
   "execution_count": 11,
   "metadata": {},
   "outputs": [
    {
     "data": {
      "text/html": [
       "<div>\n",
       "<style scoped>\n",
       "    .dataframe tbody tr th:only-of-type {\n",
       "        vertical-align: middle;\n",
       "    }\n",
       "\n",
       "    .dataframe tbody tr th {\n",
       "        vertical-align: top;\n",
       "    }\n",
       "\n",
       "    .dataframe thead th {\n",
       "        text-align: right;\n",
       "    }\n",
       "</style>\n",
       "<table border=\"1\" class=\"dataframe\">\n",
       "  <thead>\n",
       "    <tr style=\"text-align: right;\">\n",
       "      <th></th>\n",
       "      <th>R1</th>\n",
       "      <th>R2</th>\n",
       "      <th>R3</th>\n",
       "      <th>R4</th>\n",
       "      <th>R5</th>\n",
       "      <th>R6</th>\n",
       "      <th>R7</th>\n",
       "      <th>R8</th>\n",
       "      <th>I1</th>\n",
       "      <th>I2</th>\n",
       "      <th>...</th>\n",
       "      <th>age</th>\n",
       "      <th>hand</th>\n",
       "      <th>religion</th>\n",
       "      <th>orientation</th>\n",
       "      <th>race</th>\n",
       "      <th>voted</th>\n",
       "      <th>married</th>\n",
       "      <th>familysize</th>\n",
       "      <th>uniqueNetworkLocation</th>\n",
       "      <th>source</th>\n",
       "    </tr>\n",
       "  </thead>\n",
       "  <tbody>\n",
       "    <tr>\n",
       "      <th>count</th>\n",
       "      <td>92954.000000</td>\n",
       "      <td>92954.000000</td>\n",
       "      <td>92954.000000</td>\n",
       "      <td>92954.000000</td>\n",
       "      <td>92954.000000</td>\n",
       "      <td>92954.000000</td>\n",
       "      <td>92954.000000</td>\n",
       "      <td>92954.000000</td>\n",
       "      <td>92954.000000</td>\n",
       "      <td>92954.000000</td>\n",
       "      <td>...</td>\n",
       "      <td>9.295400e+04</td>\n",
       "      <td>92954.000000</td>\n",
       "      <td>92954.000000</td>\n",
       "      <td>92954.000000</td>\n",
       "      <td>92954.000000</td>\n",
       "      <td>92954.000000</td>\n",
       "      <td>92954.000000</td>\n",
       "      <td>9.295400e+04</td>\n",
       "      <td>92954.000000</td>\n",
       "      <td>92954.000000</td>\n",
       "    </tr>\n",
       "    <tr>\n",
       "      <th>mean</th>\n",
       "      <td>2.599286</td>\n",
       "      <td>2.159240</td>\n",
       "      <td>1.767197</td>\n",
       "      <td>2.275276</td>\n",
       "      <td>1.747596</td>\n",
       "      <td>2.271984</td>\n",
       "      <td>2.015847</td>\n",
       "      <td>1.997547</td>\n",
       "      <td>3.495256</td>\n",
       "      <td>3.373432</td>\n",
       "      <td>...</td>\n",
       "      <td>1.616546e+05</td>\n",
       "      <td>1.131043</td>\n",
       "      <td>5.551563</td>\n",
       "      <td>1.348613</td>\n",
       "      <td>3.249457</td>\n",
       "      <td>1.524496</td>\n",
       "      <td>1.351615</td>\n",
       "      <td>1.955833e+05</td>\n",
       "      <td>1.246735</td>\n",
       "      <td>0.416529</td>\n",
       "    </tr>\n",
       "    <tr>\n",
       "      <th>std</th>\n",
       "      <td>1.331454</td>\n",
       "      <td>1.238005</td>\n",
       "      <td>1.129459</td>\n",
       "      <td>1.322731</td>\n",
       "      <td>1.063415</td>\n",
       "      <td>1.280006</td>\n",
       "      <td>1.173389</td>\n",
       "      <td>1.181730</td>\n",
       "      <td>1.307994</td>\n",
       "      <td>1.349221</td>\n",
       "      <td>...</td>\n",
       "      <td>1.786815e+07</td>\n",
       "      <td>0.404311</td>\n",
       "      <td>3.409146</td>\n",
       "      <td>0.987252</td>\n",
       "      <td>1.400614</td>\n",
       "      <td>0.522129</td>\n",
       "      <td>0.604330</td>\n",
       "      <td>2.018972e+07</td>\n",
       "      <td>0.431113</td>\n",
       "      <td>0.646567</td>\n",
       "    </tr>\n",
       "    <tr>\n",
       "      <th>min</th>\n",
       "      <td>0.000000</td>\n",
       "      <td>0.000000</td>\n",
       "      <td>0.000000</td>\n",
       "      <td>0.000000</td>\n",
       "      <td>0.000000</td>\n",
       "      <td>0.000000</td>\n",
       "      <td>0.000000</td>\n",
       "      <td>0.000000</td>\n",
       "      <td>0.000000</td>\n",
       "      <td>0.000000</td>\n",
       "      <td>...</td>\n",
       "      <td>1.300000e+01</td>\n",
       "      <td>0.000000</td>\n",
       "      <td>0.000000</td>\n",
       "      <td>0.000000</td>\n",
       "      <td>0.000000</td>\n",
       "      <td>0.000000</td>\n",
       "      <td>0.000000</td>\n",
       "      <td>0.000000e+00</td>\n",
       "      <td>1.000000</td>\n",
       "      <td>0.000000</td>\n",
       "    </tr>\n",
       "    <tr>\n",
       "      <th>25%</th>\n",
       "      <td>1.000000</td>\n",
       "      <td>1.000000</td>\n",
       "      <td>1.000000</td>\n",
       "      <td>1.000000</td>\n",
       "      <td>1.000000</td>\n",
       "      <td>1.000000</td>\n",
       "      <td>1.000000</td>\n",
       "      <td>1.000000</td>\n",
       "      <td>3.000000</td>\n",
       "      <td>2.000000</td>\n",
       "      <td>...</td>\n",
       "      <td>2.000000e+01</td>\n",
       "      <td>1.000000</td>\n",
       "      <td>2.000000</td>\n",
       "      <td>1.000000</td>\n",
       "      <td>2.000000</td>\n",
       "      <td>1.000000</td>\n",
       "      <td>1.000000</td>\n",
       "      <td>2.000000e+00</td>\n",
       "      <td>1.000000</td>\n",
       "      <td>0.000000</td>\n",
       "    </tr>\n",
       "    <tr>\n",
       "      <th>50%</th>\n",
       "      <td>3.000000</td>\n",
       "      <td>2.000000</td>\n",
       "      <td>1.000000</td>\n",
       "      <td>2.000000</td>\n",
       "      <td>1.000000</td>\n",
       "      <td>2.000000</td>\n",
       "      <td>2.000000</td>\n",
       "      <td>2.000000</td>\n",
       "      <td>4.000000</td>\n",
       "      <td>4.000000</td>\n",
       "      <td>...</td>\n",
       "      <td>2.400000e+01</td>\n",
       "      <td>1.000000</td>\n",
       "      <td>6.000000</td>\n",
       "      <td>1.000000</td>\n",
       "      <td>4.000000</td>\n",
       "      <td>2.000000</td>\n",
       "      <td>1.000000</td>\n",
       "      <td>3.000000e+00</td>\n",
       "      <td>1.000000</td>\n",
       "      <td>0.000000</td>\n",
       "    </tr>\n",
       "    <tr>\n",
       "      <th>75%</th>\n",
       "      <td>4.000000</td>\n",
       "      <td>3.000000</td>\n",
       "      <td>2.000000</td>\n",
       "      <td>3.000000</td>\n",
       "      <td>2.000000</td>\n",
       "      <td>3.000000</td>\n",
       "      <td>3.000000</td>\n",
       "      <td>3.000000</td>\n",
       "      <td>5.000000</td>\n",
       "      <td>4.000000</td>\n",
       "      <td>...</td>\n",
       "      <td>3.500000e+01</td>\n",
       "      <td>1.000000</td>\n",
       "      <td>7.000000</td>\n",
       "      <td>1.000000</td>\n",
       "      <td>4.000000</td>\n",
       "      <td>2.000000</td>\n",
       "      <td>2.000000</td>\n",
       "      <td>3.000000e+00</td>\n",
       "      <td>1.000000</td>\n",
       "      <td>1.000000</td>\n",
       "    </tr>\n",
       "    <tr>\n",
       "      <th>max</th>\n",
       "      <td>5.000000</td>\n",
       "      <td>5.000000</td>\n",
       "      <td>5.000000</td>\n",
       "      <td>5.000000</td>\n",
       "      <td>5.000000</td>\n",
       "      <td>5.000000</td>\n",
       "      <td>5.000000</td>\n",
       "      <td>5.000000</td>\n",
       "      <td>5.000000</td>\n",
       "      <td>5.000000</td>\n",
       "      <td>...</td>\n",
       "      <td>2.147484e+09</td>\n",
       "      <td>3.000000</td>\n",
       "      <td>12.000000</td>\n",
       "      <td>5.000000</td>\n",
       "      <td>5.000000</td>\n",
       "      <td>2.000000</td>\n",
       "      <td>3.000000</td>\n",
       "      <td>2.147484e+09</td>\n",
       "      <td>2.000000</td>\n",
       "      <td>2.000000</td>\n",
       "    </tr>\n",
       "  </tbody>\n",
       "</table>\n",
       "<p>8 rows × 91 columns</p>\n",
       "</div>"
      ],
      "text/plain": [
       "                 R1            R2            R3            R4            R5  \\\n",
       "count  92954.000000  92954.000000  92954.000000  92954.000000  92954.000000   \n",
       "mean       2.599286      2.159240      1.767197      2.275276      1.747596   \n",
       "std        1.331454      1.238005      1.129459      1.322731      1.063415   \n",
       "min        0.000000      0.000000      0.000000      0.000000      0.000000   \n",
       "25%        1.000000      1.000000      1.000000      1.000000      1.000000   \n",
       "50%        3.000000      2.000000      1.000000      2.000000      1.000000   \n",
       "75%        4.000000      3.000000      2.000000      3.000000      2.000000   \n",
       "max        5.000000      5.000000      5.000000      5.000000      5.000000   \n",
       "\n",
       "                 R6            R7            R8            I1            I2  \\\n",
       "count  92954.000000  92954.000000  92954.000000  92954.000000  92954.000000   \n",
       "mean       2.271984      2.015847      1.997547      3.495256      3.373432   \n",
       "std        1.280006      1.173389      1.181730      1.307994      1.349221   \n",
       "min        0.000000      0.000000      0.000000      0.000000      0.000000   \n",
       "25%        1.000000      1.000000      1.000000      3.000000      2.000000   \n",
       "50%        2.000000      2.000000      2.000000      4.000000      4.000000   \n",
       "75%        3.000000      3.000000      3.000000      5.000000      4.000000   \n",
       "max        5.000000      5.000000      5.000000      5.000000      5.000000   \n",
       "\n",
       "       ...           age          hand      religion   orientation  \\\n",
       "count  ...  9.295400e+04  92954.000000  92954.000000  92954.000000   \n",
       "mean   ...  1.616546e+05      1.131043      5.551563      1.348613   \n",
       "std    ...  1.786815e+07      0.404311      3.409146      0.987252   \n",
       "min    ...  1.300000e+01      0.000000      0.000000      0.000000   \n",
       "25%    ...  2.000000e+01      1.000000      2.000000      1.000000   \n",
       "50%    ...  2.400000e+01      1.000000      6.000000      1.000000   \n",
       "75%    ...  3.500000e+01      1.000000      7.000000      1.000000   \n",
       "max    ...  2.147484e+09      3.000000     12.000000      5.000000   \n",
       "\n",
       "               race         voted       married    familysize  \\\n",
       "count  92954.000000  92954.000000  92954.000000  9.295400e+04   \n",
       "mean       3.249457      1.524496      1.351615  1.955833e+05   \n",
       "std        1.400614      0.522129      0.604330  2.018972e+07   \n",
       "min        0.000000      0.000000      0.000000  0.000000e+00   \n",
       "25%        2.000000      1.000000      1.000000  2.000000e+00   \n",
       "50%        4.000000      2.000000      1.000000  3.000000e+00   \n",
       "75%        4.000000      2.000000      2.000000  3.000000e+00   \n",
       "max        5.000000      2.000000      3.000000  2.147484e+09   \n",
       "\n",
       "       uniqueNetworkLocation        source  \n",
       "count           92954.000000  92954.000000  \n",
       "mean                1.246735      0.416529  \n",
       "std                 0.431113      0.646567  \n",
       "min                 1.000000      0.000000  \n",
       "25%                 1.000000      0.000000  \n",
       "50%                 1.000000      0.000000  \n",
       "75%                 1.000000      1.000000  \n",
       "max                 2.000000      2.000000  \n",
       "\n",
       "[8 rows x 91 columns]"
      ]
     },
     "execution_count": 11,
     "metadata": {},
     "output_type": "execute_result"
    }
   ],
   "source": [
    "train_set.describe()"
   ]
  },
  {
   "cell_type": "markdown",
   "metadata": {},
   "source": [
    "# CHECKING CORRELATION"
   ]
  },
  {
   "cell_type": "code",
   "execution_count": 25,
   "metadata": {},
   "outputs": [],
   "source": [
    "label_encoder = LabelEncoder()\n",
    "train_set['major'] = label_encoder.fit_transform(train_set['major'])"
   ]
  },
  {
   "cell_type": "code",
   "execution_count": 26,
   "metadata": {},
   "outputs": [
    {
     "name": "stdout",
     "output_type": "stream",
     "text": [
      "major\n",
      "14860    6861\n",
      "8897     5763\n",
      "3966     2342\n",
      "1616     2290\n",
      "1356     1289\n",
      "         ... \n",
      "6568        1\n",
      "15522       1\n",
      "3875        1\n",
      "6167        1\n",
      "79          1\n",
      "Name: count, Length: 15954, dtype: int64\n"
     ]
    }
   ],
   "source": [
    "print(train_set['major'].value_counts())"
   ]
  },
  {
   "cell_type": "code",
   "execution_count": 32,
   "metadata": {},
   "outputs": [],
   "source": [
    "correlation_matrix = train_set.corr()"
   ]
  },
  {
   "cell_type": "code",
   "execution_count": 33,
   "metadata": {},
   "outputs": [],
   "source": [
    "major_correlations = correlation_matrix['major'].sort_values(ascending=False)"
   ]
  },
  {
   "cell_type": "code",
   "execution_count": 34,
   "metadata": {},
   "outputs": [
    {
     "name": "stdout",
     "output_type": "stream",
     "text": [
      "major     1.000000\n",
      "S3        0.096764\n",
      "S5        0.085339\n",
      "gender    0.074256\n",
      "S8        0.062330\n",
      "            ...   \n",
      "VCL2     -0.071028\n",
      "VCL5     -0.074731\n",
      "E5       -0.075448\n",
      "C6       -0.076774\n",
      "VCL13    -0.097827\n",
      "Name: major, Length: 92, dtype: float64\n"
     ]
    }
   ],
   "source": [
    "print(major_correlations)"
   ]
  },
  {
   "cell_type": "code",
   "execution_count": 37,
   "metadata": {},
   "outputs": [],
   "source": [
    "pd.set_option('display.max_rows', None)"
   ]
  },
  {
   "cell_type": "code",
   "execution_count": 38,
   "metadata": {},
   "outputs": [
    {
     "name": "stdout",
     "output_type": "stream",
     "text": [
      "major                    1.000000\n",
      "S3                       0.096764\n",
      "S5                       0.085339\n",
      "gender                   0.074256\n",
      "S8                       0.062330\n",
      "religion                 0.053466\n",
      "S6                       0.042859\n",
      "uniqueNetworkLocation    0.039980\n",
      "I1                       0.035895\n",
      "I4                       0.033131\n",
      "engnat                   0.031619\n",
      "voted                    0.031197\n",
      "TIPI7                    0.029754\n",
      "orientation              0.023702\n",
      "E4                       0.019255\n",
      "S7                       0.014222\n",
      "VCL8                     0.013880\n",
      "I7                       0.013129\n",
      "TIPI10                   0.012849\n",
      "I2                       0.012125\n",
      "race                     0.011701\n",
      "TIPI4                    0.009758\n",
      "I5                       0.008658\n",
      "TIPI1                    0.006644\n",
      "VCL9                     0.006514\n",
      "S1                       0.006457\n",
      "familysize               0.005554\n",
      "TIPI8                    0.003438\n",
      "age                      0.002779\n",
      "S4                       0.001442\n",
      "hand                     0.001158\n",
      "S2                      -0.001265\n",
      "source                  -0.001817\n",
      "testelapse              -0.002557\n",
      "TIPI6                   -0.002585\n",
      "TIPI9                   -0.003499\n",
      "surveyelapse            -0.004353\n",
      "I3                      -0.005232\n",
      "introelapse             -0.005921\n",
      "urban                   -0.006283\n",
      "I6                      -0.006356\n",
      "TIPI3                   -0.007153\n",
      "VCL6                    -0.007163\n",
      "E2                      -0.007769\n",
      "E6                      -0.011200\n",
      "VCL7                    -0.011586\n",
      "married                 -0.012711\n",
      "TIPI2                   -0.014631\n",
      "A7                      -0.016891\n",
      "R5                      -0.016927\n",
      "A1                      -0.020841\n",
      "VCL12                   -0.021185\n",
      "A2                      -0.022356\n",
      "TIPI5                   -0.022664\n",
      "VCL16                   -0.023088\n",
      "R3                      -0.024034\n",
      "R1                      -0.026421\n",
      "A3                      -0.028105\n",
      "R8                      -0.028630\n",
      "A4                      -0.029314\n",
      "R7                      -0.030567\n",
      "R2                      -0.030968\n",
      "E1                      -0.031531\n",
      "A5                      -0.032447\n",
      "E8                      -0.033560\n",
      "A8                      -0.033777\n",
      "E7                      -0.034908\n",
      "C4                      -0.035005\n",
      "VCL1                    -0.035654\n",
      "VCL11                   -0.037387\n",
      "A6                      -0.039276\n",
      "C1                      -0.041104\n",
      "VCL10                   -0.042534\n",
      "C2                      -0.044016\n",
      "R6                      -0.044307\n",
      "VCL4                    -0.045325\n",
      "I8                      -0.046523\n",
      "VCL3                    -0.046884\n",
      "E3                      -0.050562\n",
      "C8                      -0.052139\n",
      "VCL15                   -0.058998\n",
      "education               -0.059602\n",
      "VCL14                   -0.061744\n",
      "R4                      -0.063792\n",
      "C3                      -0.066560\n",
      "C5                      -0.067420\n",
      "C7                      -0.067689\n",
      "VCL2                    -0.071028\n",
      "VCL5                    -0.074731\n",
      "E5                      -0.075448\n",
      "C6                      -0.076774\n",
      "VCL13                   -0.097827\n",
      "Name: major, dtype: float64\n"
     ]
    }
   ],
   "source": [
    "print(major_correlations)"
   ]
  },
  {
   "cell_type": "markdown",
   "metadata": {},
   "source": [
    "# Filter untuk masing masing pertanyaan RIASEC "
   ]
  },
  {
   "cell_type": "code",
   "execution_count": 62,
   "metadata": {},
   "outputs": [
    {
     "name": "stdout",
     "output_type": "stream",
     "text": [
      "R4   -0.063792\n",
      "R6   -0.044307\n",
      "R2   -0.030968\n",
      "R7   -0.030567\n",
      "R8   -0.028630\n",
      "R1   -0.026421\n",
      "R3   -0.024034\n",
      "R5   -0.016927\n",
      "Name: major, dtype: float64\n"
     ]
    }
   ],
   "source": [
    "r_columns = [col for col in major_correlations.index if col.startswith('R')]\n",
    "r_correlations = major_correlations[r_columns]\n",
    "r_correlations_sorted = r_correlations.reindex(r_correlations.abs().sort_values(ascending=False).index)\n",
    "print(r_correlations_sorted)"
   ]
  },
  {
   "cell_type": "code",
   "execution_count": 61,
   "metadata": {},
   "outputs": [
    {
     "name": "stdout",
     "output_type": "stream",
     "text": [
      "I8   -0.046523\n",
      "I1    0.035895\n",
      "I4    0.033131\n",
      "I7    0.013129\n",
      "I2    0.012125\n",
      "I5    0.008658\n",
      "I6   -0.006356\n",
      "I3   -0.005232\n",
      "Name: major, dtype: float64\n"
     ]
    }
   ],
   "source": [
    "i_columns = [col for col in major_correlations.index if col.startswith('I')]\n",
    "i_correlations = major_correlations[i_columns]\n",
    "i_correlations_sorted = i_correlations.reindex(i_correlations.abs().sort_values(ascending=False).index)\n",
    "print(i_correlations_sorted)"
   ]
  },
  {
   "cell_type": "code",
   "execution_count": 60,
   "metadata": {},
   "outputs": [
    {
     "name": "stdout",
     "output_type": "stream",
     "text": [
      "A6   -0.039276\n",
      "A8   -0.033777\n",
      "A5   -0.032447\n",
      "A4   -0.029314\n",
      "A3   -0.028105\n",
      "A2   -0.022356\n",
      "A1   -0.020841\n",
      "A7   -0.016891\n",
      "Name: major, dtype: float64\n"
     ]
    }
   ],
   "source": [
    "a_columns = [col for col in major_correlations.index if col.startswith('A')]\n",
    "a_correlations = major_correlations[a_columns]\n",
    "a_correlations_sorted = a_correlations.reindex(a_correlations.abs().sort_values(ascending=False).index)\n",
    "print(a_correlations_sorted)"
   ]
  },
  {
   "cell_type": "code",
   "execution_count": 59,
   "metadata": {},
   "outputs": [
    {
     "name": "stdout",
     "output_type": "stream",
     "text": [
      "S3    0.096764\n",
      "S5    0.085339\n",
      "S8    0.062330\n",
      "S6    0.042859\n",
      "S7    0.014222\n",
      "S1    0.006457\n",
      "S4    0.001442\n",
      "S2   -0.001265\n",
      "Name: major, dtype: float64\n"
     ]
    }
   ],
   "source": [
    "s_columns = [col for col in major_correlations.index if col.startswith('S')]\n",
    "s_correlations = major_correlations[s_columns]\n",
    "s_correlations_sorted = s_correlations.reindex(s_correlations.abs().sort_values(ascending=False).index)\n",
    "print(s_correlations_sorted)"
   ]
  },
  {
   "cell_type": "code",
   "execution_count": 58,
   "metadata": {},
   "outputs": [
    {
     "name": "stdout",
     "output_type": "stream",
     "text": [
      "E5   -0.075448\n",
      "E3   -0.050562\n",
      "E7   -0.034908\n",
      "E8   -0.033560\n",
      "E1   -0.031531\n",
      "E4    0.019255\n",
      "E6   -0.011200\n",
      "E2   -0.007769\n",
      "Name: major, dtype: float64\n"
     ]
    }
   ],
   "source": [
    "e_columns = [col for col in major_correlations.index if col.startswith('E')]\n",
    "e_correlations = major_correlations[e_columns]\n",
    "e_correlations_sorted = e_correlations.reindex(e_correlations.abs().sort_values(ascending=False).index)\n",
    "print(e_correlations_sorted)"
   ]
  },
  {
   "cell_type": "code",
   "execution_count": 57,
   "metadata": {},
   "outputs": [
    {
     "name": "stdout",
     "output_type": "stream",
     "text": [
      "C6   -0.076774\n",
      "C7   -0.067689\n",
      "C5   -0.067420\n",
      "C3   -0.066560\n",
      "C8   -0.052139\n",
      "C2   -0.044016\n",
      "C1   -0.041104\n",
      "C4   -0.035005\n",
      "Name: major, dtype: float64\n"
     ]
    }
   ],
   "source": [
    "c_columns = [col for col in major_correlations.index if col.startswith('C')]\n",
    "c_correlations = major_correlations[c_columns]\n",
    "c_correlations_sorted = c_correlations.reindex(c_correlations.abs().sort_values(ascending=False).index)\n",
    "print(c_correlations_sorted)"
   ]
  },
  {
   "cell_type": "markdown",
   "metadata": {},
   "source": [
    "# Filter untuk pertanyaan diluar RIASEC"
   ]
  },
  {
   "cell_type": "code",
   "execution_count": 65,
   "metadata": {},
   "outputs": [
    {
     "name": "stdout",
     "output_type": "stream",
     "text": [
      "major                    1.000000\n",
      "gender                   0.074256\n",
      "religion                 0.053466\n",
      "uniqueNetworkLocation    0.039980\n",
      "engnat                   0.031619\n",
      "voted                    0.031197\n",
      "TIPI7                    0.029754\n",
      "orientation              0.023702\n",
      "VCL8                     0.013880\n",
      "TIPI10                   0.012849\n",
      "race                     0.011701\n",
      "TIPI4                    0.009758\n",
      "TIPI1                    0.006644\n",
      "VCL9                     0.006514\n",
      "familysize               0.005554\n",
      "TIPI8                    0.003438\n",
      "age                      0.002779\n",
      "hand                     0.001158\n",
      "source                  -0.001817\n",
      "testelapse              -0.002557\n",
      "TIPI6                   -0.002585\n",
      "TIPI9                   -0.003499\n",
      "surveyelapse            -0.004353\n",
      "introelapse             -0.005921\n",
      "urban                   -0.006283\n",
      "TIPI3                   -0.007153\n",
      "VCL6                    -0.007163\n",
      "VCL7                    -0.011586\n",
      "married                 -0.012711\n",
      "TIPI2                   -0.014631\n",
      "VCL12                   -0.021185\n",
      "TIPI5                   -0.022664\n",
      "VCL16                   -0.023088\n",
      "VCL1                    -0.035654\n",
      "VCL11                   -0.037387\n",
      "VCL10                   -0.042534\n",
      "VCL4                    -0.045325\n",
      "VCL3                    -0.046884\n",
      "VCL15                   -0.058998\n",
      "education               -0.059602\n",
      "VCL14                   -0.061744\n",
      "VCL2                    -0.071028\n",
      "VCL5                    -0.074731\n",
      "VCL13                   -0.097827\n",
      "Name: major, dtype: float64\n"
     ]
    }
   ],
   "source": [
    "# Define the letters to exclude\n",
    "exclude_letters = ['R', 'I', 'A', 'S', 'E', 'C']  \n",
    "\n",
    "#Filter columns that do not start with the specified letters\n",
    "filtered_columns = [col for col in major_correlations.index if not any(col.startswith(letter) for letter in exclude_letters)]\n",
    "\n",
    "# Create a DataFrame for filtered columns and their correlations\n",
    "filtered_correlations = major_correlations[filtered_columns]\n",
    "\n",
    "# Sort the filtered correlations\n",
    "filtered_correlations_sorted = filtered_correlations.sort_values(ascending=False)\n",
    "\n",
    "# Display the sorted correlations\n",
    "print(filtered_correlations_sorted)"
   ]
  },
  {
   "cell_type": "markdown",
   "metadata": {},
   "source": [
    "# Filter VCL Questions"
   ]
  },
  {
   "cell_type": "code",
   "execution_count": 56,
   "metadata": {},
   "outputs": [
    {
     "name": "stdout",
     "output_type": "stream",
     "text": [
      "VCL13   -0.097827\n",
      "VCL5    -0.074731\n",
      "VCL2    -0.071028\n",
      "VCL14   -0.061744\n",
      "VCL15   -0.058998\n",
      "VCL3    -0.046884\n",
      "VCL4    -0.045325\n",
      "VCL10   -0.042534\n",
      "VCL11   -0.037387\n",
      "VCL1    -0.035654\n",
      "VCL16   -0.023088\n",
      "VCL12   -0.021185\n",
      "VCL8     0.013880\n",
      "VCL7    -0.011586\n",
      "VCL6    -0.007163\n",
      "VCL9     0.006514\n",
      "Name: major, dtype: float64\n"
     ]
    }
   ],
   "source": [
    "vcl_columns = [col for col in major_correlations.index if col.startswith('VCL')]\n",
    "vcl_correlations = major_correlations[vcl_columns]\n",
    "vcl_correlations_sorted = vcl_correlations.reindex(vcl_correlations.abs().sort_values(ascending=False).index)\n",
    "print(vcl_correlations_sorted)"
   ]
  },
  {
   "cell_type": "markdown",
   "metadata": {},
   "source": [
    "# Filter TIPI"
   ]
  },
  {
   "cell_type": "code",
   "execution_count": 55,
   "metadata": {},
   "outputs": [
    {
     "name": "stdout",
     "output_type": "stream",
     "text": [
      "TIPI7     0.029754\n",
      "TIPI5    -0.022664\n",
      "TIPI2    -0.014631\n",
      "TIPI10    0.012849\n",
      "TIPI4     0.009758\n",
      "TIPI3    -0.007153\n",
      "TIPI1     0.006644\n",
      "TIPI9    -0.003499\n",
      "TIPI8     0.003438\n",
      "TIPI6    -0.002585\n",
      "Name: major, dtype: float64\n"
     ]
    }
   ],
   "source": [
    "tipi_columns = [col for col in major_correlations.index if col.startswith('TIPI')]\n",
    "tipi_correlations = major_correlations[tipi_columns]\n",
    "tipi_correlations_sorted = tipi_correlations.reindex(tipi_correlations.abs().sort_values(ascending=False).index)\n",
    "print(tipi_correlations_sorted)"
   ]
  },
  {
   "cell_type": "markdown",
   "metadata": {},
   "source": [
    "# Filter Pertanyaan diluar RIASEC, VCL, TIPI"
   ]
  },
  {
   "cell_type": "code",
   "execution_count": 66,
   "metadata": {},
   "outputs": [
    {
     "name": "stdout",
     "output_type": "stream",
     "text": [
      "major                    1.000000\n",
      "gender                   0.074256\n",
      "education               -0.059602\n",
      "religion                 0.053466\n",
      "uniqueNetworkLocation    0.039980\n",
      "engnat                   0.031619\n",
      "voted                    0.031197\n",
      "orientation              0.023702\n",
      "married                 -0.012711\n",
      "race                     0.011701\n",
      "urban                   -0.006283\n",
      "introelapse             -0.005921\n",
      "familysize               0.005554\n",
      "surveyelapse            -0.004353\n",
      "age                      0.002779\n",
      "testelapse              -0.002557\n",
      "source                  -0.001817\n",
      "hand                     0.001158\n",
      "Name: major, dtype: float64\n"
     ]
    }
   ],
   "source": [
    "# Define the letters to exclude\n",
    "exclude_letters = ['R', 'I', 'A', 'S', 'E', 'C', 'TIPI', 'VCL']  \n",
    "\n",
    "#Filter columns that do not start with the specified letters\n",
    "filtered_columns = [col for col in major_correlations.index if not any(col.startswith(letter) for letter in exclude_letters)]\n",
    "\n",
    "# Create a DataFrame for filtered columns and their correlations\n",
    "filtered_correlations = major_correlations[filtered_columns]\n",
    "\n",
    "# Sort the filtered correlations\n",
    "filtered_correlations_sorted = filtered_correlations.reindex(filtered_correlations.abs().sort_values(ascending=False).index)\n",
    "\n",
    "# Display the sorted correlations\n",
    "print(filtered_correlations_sorted)"
   ]
  }
 ],
 "metadata": {
  "kernelspec": {
   "display_name": "Python 3",
   "language": "python",
   "name": "python3"
  },
  "language_info": {
   "codemirror_mode": {
    "name": "ipython",
    "version": 3
   },
   "file_extension": ".py",
   "mimetype": "text/x-python",
   "name": "python",
   "nbconvert_exporter": "python",
   "pygments_lexer": "ipython3",
   "version": "3.10.6"
  }
 },
 "nbformat": 4,
 "nbformat_minor": 2
}
